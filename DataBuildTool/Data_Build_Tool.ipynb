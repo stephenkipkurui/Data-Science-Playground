{
 "cells": [
  {
   "cell_type": "markdown",
   "id": "36af3f53",
   "metadata": {},
   "source": [
    "# What is Data Build Tool (DBT)?\n",
    "\n",
    "https://docs.getdbt.com/docs/introduction\n",
    "\n",
    "\n",
    "- DBT (data build tool) __enables analytics engineers to transform data in their warehouses by simply writing SELECT statements__. \n",
    "- In Extract Load & Transform (ELT) process, dbt transform data - `T`. https://docs.getdbt.com/terms/elt\n",
    "\n",
    ">### Transform\n",
    ">In the final transformation step, the raw data that has been loaded into your data warehouse is finally ready for modeling! When you first look at this data, you may notice a few things about it…\n",
    "\n",
    ">- Column names may or may not be clear\n",
    ">- Some columns are potentially the incorrect data type\n",
    ">- Tables are not joined to other tables\n",
    ">- Timestamps may be in the incorrect timezone for your reporting\n",
    ">- JSON fields may need to be unnested\n",
    ">- Tables may be missing primary keys\n",
    ">- And more!\n",
    "...hence the need for transformation! During the transformation process, data from your data sources is usually:\n",
    "\n",
    ">Lightly Transformed: Fields are cast correctly, timestamp fields’ timezones are made uniform, tables and fields are renamed appropriately, and more.\n",
    "Heavily Transformed: Business logic is added, appropriate materializations are established, data is joined together, etc.\n",
    "QA’d: Data is tested according to business standards. In this step, data teams may ensure primary keys are unique, model relations match-up, column values are appropriate, and more.\n",
    "Common ways to transform your data include leveraging modern technologies such as dbt, writing custom SQL scripts that are automated by a scheduler, utilizing stored procedures, and more.\n"
   ]
  },
  {
   "cell_type": "markdown",
   "id": "89e3f70e",
   "metadata": {},
   "source": [
    "## Introduction:\n",
    "\n",
    "Exactly, what is DBT: https://www.getdbt.com/blog/what-exactly-is-dbt/\n",
    "\n",
    "DBT Cloud IDE https://www.getdbt.com/blog/announcing-the-dbt-ide/"
   ]
  },
  {
   "cell_type": "code",
   "execution_count": null,
   "id": "f2ef36dc",
   "metadata": {},
   "outputs": [],
   "source": []
  }
 ],
 "metadata": {
  "kernelspec": {
   "display_name": "Python 3 (ipykernel)",
   "language": "python",
   "name": "python3"
  },
  "language_info": {
   "codemirror_mode": {
    "name": "ipython",
    "version": 3
   },
   "file_extension": ".py",
   "mimetype": "text/x-python",
   "name": "python",
   "nbconvert_exporter": "python",
   "pygments_lexer": "ipython3",
   "version": "3.9.7"
  }
 },
 "nbformat": 4,
 "nbformat_minor": 5
}
