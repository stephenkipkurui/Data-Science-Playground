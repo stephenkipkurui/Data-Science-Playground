{
 "cells": [
  {
   "cell_type": "markdown",
   "id": "e30cf8e6",
   "metadata": {},
   "source": [
    "# Starting with Python by Tonny Gaddis \n",
    "## Object Oriented Programming\n"
   ]
  },
  {
   "cell_type": "markdown",
   "id": "8d06b6bd",
   "metadata": {},
   "source": [
    "__Object__ - software entity containing data (data attributes) and procedures (methods). \n",
    "\n",
    "__Encapsulation__ - combination of data and code into single object.\n",
    "\n",
    "__Data hiding__ - object ability to hide its data from code that is outside the object. Only objects methods have direct access and may make changes to object data attributes. Outside code may access its methods.\n",
    "\n",
    "__Class__ - code that specifies the data attributes and methods for a particular type of object.\n",
    "\n",
    "\n"
   ]
  },
  {
   "cell_type": "code",
   "execution_count": null,
   "id": "df8aa29c",
   "metadata": {},
   "outputs": [],
   "source": []
  }
 ],
 "metadata": {
  "kernelspec": {
   "display_name": "Python 3 (ipykernel)",
   "language": "python",
   "name": "python3"
  },
  "language_info": {
   "codemirror_mode": {
    "name": "ipython",
    "version": 3
   },
   "file_extension": ".py",
   "mimetype": "text/x-python",
   "name": "python",
   "nbconvert_exporter": "python",
   "pygments_lexer": "ipython3",
   "version": "3.9.7"
  }
 },
 "nbformat": 4,
 "nbformat_minor": 5
}
